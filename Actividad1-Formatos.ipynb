{
 "cells": [
  {
   "cell_type": "markdown",
   "metadata": {},
   "source": [
    "# FORMATOS DE ARCHIVOS E IMPORTACIÓN DE DATOS"
   ]
  },
  {
   "cell_type": "markdown",
   "metadata": {},
   "source": [
    "## Importar la librería"
   ]
  },
  {
   "cell_type": "code",
   "execution_count": 63,
   "metadata": {},
   "outputs": [],
   "source": [
    "import pandas as pd"
   ]
  },
  {
   "cell_type": "markdown",
   "metadata": {},
   "source": [
    "## Estructuras básicas"
   ]
  },
  {
   "cell_type": "markdown",
   "metadata": {},
   "source": [
    "### Series"
   ]
  },
  {
   "cell_type": "code",
   "execution_count": 64,
   "metadata": {},
   "outputs": [
    {
     "data": {
      "text/plain": [
       "0    1\n",
       "1    3\n",
       "2    5\n",
       "3    7\n",
       "4    9\n",
       "dtype: int64"
      ]
     },
     "execution_count": 64,
     "metadata": {},
     "output_type": "execute_result"
    }
   ],
   "source": [
    "s = pd.Series([1, 3, 5, 7, 9])\n",
    "s"
   ]
  },
  {
   "cell_type": "markdown",
   "metadata": {},
   "source": [
    "### DataFrame"
   ]
  },
  {
   "cell_type": "code",
   "execution_count": 65,
   "metadata": {},
   "outputs": [
    {
     "data": {
      "text/html": [
       "<div>\n",
       "<style scoped>\n",
       "    .dataframe tbody tr th:only-of-type {\n",
       "        vertical-align: middle;\n",
       "    }\n",
       "\n",
       "    .dataframe tbody tr th {\n",
       "        vertical-align: top;\n",
       "    }\n",
       "\n",
       "    .dataframe thead th {\n",
       "        text-align: right;\n",
       "    }\n",
       "</style>\n",
       "<table border=\"1\" class=\"dataframe\">\n",
       "  <thead>\n",
       "    <tr style=\"text-align: right;\">\n",
       "      <th></th>\n",
       "      <th>Nombre</th>\n",
       "      <th>Edad</th>\n",
       "      <th>Ciudad</th>\n",
       "    </tr>\n",
       "  </thead>\n",
       "  <tbody>\n",
       "    <tr>\n",
       "      <th>0</th>\n",
       "      <td>Ana</td>\n",
       "      <td>23</td>\n",
       "      <td>CDMX</td>\n",
       "    </tr>\n",
       "    <tr>\n",
       "      <th>1</th>\n",
       "      <td>Luis</td>\n",
       "      <td>30</td>\n",
       "      <td>Monterrey</td>\n",
       "    </tr>\n",
       "    <tr>\n",
       "      <th>2</th>\n",
       "      <td>Carlos</td>\n",
       "      <td>25</td>\n",
       "      <td>Guadalajara</td>\n",
       "    </tr>\n",
       "  </tbody>\n",
       "</table>\n",
       "</div>"
      ],
      "text/plain": [
       "   Nombre  Edad       Ciudad\n",
       "0     Ana    23         CDMX\n",
       "1    Luis    30    Monterrey\n",
       "2  Carlos    25  Guadalajara"
      ]
     },
     "execution_count": 65,
     "metadata": {},
     "output_type": "execute_result"
    }
   ],
   "source": [
    "data = {'Nombre': ['Ana', 'Luis', 'Carlos'],\n",
    "        'Edad': [23, 30, 25],\n",
    "        'Ciudad': ['CDMX', 'Monterrey', 'Guadalajara']}\n",
    "df = pd.DataFrame(data)\n",
    "df"
   ]
  },
  {
   "cell_type": "markdown",
   "metadata": {},
   "source": [
    "## Leer y escribir archivos"
   ]
  },
  {
   "cell_type": "markdown",
   "metadata": {},
   "source": [
    "### Leer archivos"
   ]
  },
  {
   "cell_type": "code",
   "execution_count": 66,
   "metadata": {},
   "outputs": [],
   "source": [
    "df = pd.read_csv(\"vgchartz-2024.csv\")  # Leer un CSV\n",
    "# df = pd.read_excel(\"archivo.xlsx\")  # Leer un Excel\n",
    "# df = pd.read_json(\"archivo.json\")  # Leer un JSON"
   ]
  },
  {
   "cell_type": "markdown",
   "metadata": {},
   "source": [
    "### Guardar archivos"
   ]
  },
  {
   "cell_type": "code",
   "execution_count": 67,
   "metadata": {},
   "outputs": [],
   "source": [
    "df.to_csv(\"archivo_nuevo.csv\", index=False)\n",
    "# df.to_excel(\"archivo_nuevo.xlsx\", index=False)"
   ]
  },
  {
   "cell_type": "markdown",
   "metadata": {},
   "source": [
    "## Inspeccionar el DataFrame"
   ]
  },
  {
   "cell_type": "code",
   "execution_count": 68,
   "metadata": {},
   "outputs": [
    {
     "name": "stdout",
     "output_type": "stream",
     "text": [
      "<class 'pandas.core.frame.DataFrame'>\n",
      "RangeIndex: 64016 entries, 0 to 64015\n",
      "Data columns (total 14 columns):\n",
      " #   Column        Non-Null Count  Dtype  \n",
      "---  ------        --------------  -----  \n",
      " 0   img           64016 non-null  object \n",
      " 1   title         64016 non-null  object \n",
      " 2   console       64016 non-null  object \n",
      " 3   genre         64016 non-null  object \n",
      " 4   publisher     64016 non-null  object \n",
      " 5   developer     63999 non-null  object \n",
      " 6   critic_score  6678 non-null   float64\n",
      " 7   total_sales   18922 non-null  float64\n",
      " 8   na_sales      12637 non-null  float64\n",
      " 9   jp_sales      6726 non-null   float64\n",
      " 10  pal_sales     12824 non-null  float64\n",
      " 11  other_sales   15128 non-null  float64\n",
      " 12  release_date  56965 non-null  object \n",
      " 13  last_update   17879 non-null  object \n",
      "dtypes: float64(6), object(8)\n",
      "memory usage: 6.8+ MB\n"
     ]
    },
    {
     "data": {
      "text/plain": [
       "(64016, 14)"
      ]
     },
     "execution_count": 68,
     "metadata": {},
     "output_type": "execute_result"
    }
   ],
   "source": [
    "df.head()  # Muestra las primeras 5 filas\n",
    "df.tail()  # Muestra las últimas 5 filas\n",
    "df.info()  # Información general del DataFrame\n",
    "df.describe()  # Estadísticas descriptivas\n",
    "df.shape  # Tamaño del DataFrame (filas, columnas)"
   ]
  },
  {
   "cell_type": "markdown",
   "metadata": {},
   "source": [
    "## Selección de datos"
   ]
  },
  {
   "cell_type": "markdown",
   "metadata": {},
   "source": [
    "### Seleccionar columnas"
   ]
  },
  {
   "cell_type": "code",
   "execution_count": 69,
   "metadata": {},
   "outputs": [
    {
     "data": {
      "text/html": [
       "<div>\n",
       "<style scoped>\n",
       "    .dataframe tbody tr th:only-of-type {\n",
       "        vertical-align: middle;\n",
       "    }\n",
       "\n",
       "    .dataframe tbody tr th {\n",
       "        vertical-align: top;\n",
       "    }\n",
       "\n",
       "    .dataframe thead th {\n",
       "        text-align: right;\n",
       "    }\n",
       "</style>\n",
       "<table border=\"1\" class=\"dataframe\">\n",
       "  <thead>\n",
       "    <tr style=\"text-align: right;\">\n",
       "      <th></th>\n",
       "      <th>title</th>\n",
       "      <th>console</th>\n",
       "    </tr>\n",
       "  </thead>\n",
       "  <tbody>\n",
       "    <tr>\n",
       "      <th>0</th>\n",
       "      <td>Grand Theft Auto V</td>\n",
       "      <td>PS3</td>\n",
       "    </tr>\n",
       "    <tr>\n",
       "      <th>1</th>\n",
       "      <td>Grand Theft Auto V</td>\n",
       "      <td>PS4</td>\n",
       "    </tr>\n",
       "    <tr>\n",
       "      <th>2</th>\n",
       "      <td>Grand Theft Auto: Vice City</td>\n",
       "      <td>PS2</td>\n",
       "    </tr>\n",
       "    <tr>\n",
       "      <th>3</th>\n",
       "      <td>Grand Theft Auto V</td>\n",
       "      <td>X360</td>\n",
       "    </tr>\n",
       "    <tr>\n",
       "      <th>4</th>\n",
       "      <td>Call of Duty: Black Ops 3</td>\n",
       "      <td>PS4</td>\n",
       "    </tr>\n",
       "    <tr>\n",
       "      <th>...</th>\n",
       "      <td>...</td>\n",
       "      <td>...</td>\n",
       "    </tr>\n",
       "    <tr>\n",
       "      <th>64011</th>\n",
       "      <td>XBlaze Lost: Memories</td>\n",
       "      <td>PC</td>\n",
       "    </tr>\n",
       "    <tr>\n",
       "      <th>64012</th>\n",
       "      <td>Yoru, Tomosu</td>\n",
       "      <td>PS4</td>\n",
       "    </tr>\n",
       "    <tr>\n",
       "      <th>64013</th>\n",
       "      <td>Yoru, Tomosu</td>\n",
       "      <td>NS</td>\n",
       "    </tr>\n",
       "    <tr>\n",
       "      <th>64014</th>\n",
       "      <td>Yunohana SpRING! ~Mellow Times~</td>\n",
       "      <td>NS</td>\n",
       "    </tr>\n",
       "    <tr>\n",
       "      <th>64015</th>\n",
       "      <td>Yurukill: The Calumniation Games</td>\n",
       "      <td>PS4</td>\n",
       "    </tr>\n",
       "  </tbody>\n",
       "</table>\n",
       "<p>64016 rows × 2 columns</p>\n",
       "</div>"
      ],
      "text/plain": [
       "                                  title console\n",
       "0                    Grand Theft Auto V     PS3\n",
       "1                    Grand Theft Auto V     PS4\n",
       "2           Grand Theft Auto: Vice City     PS2\n",
       "3                    Grand Theft Auto V    X360\n",
       "4             Call of Duty: Black Ops 3     PS4\n",
       "...                                 ...     ...\n",
       "64011             XBlaze Lost: Memories      PC\n",
       "64012                      Yoru, Tomosu     PS4\n",
       "64013                      Yoru, Tomosu      NS\n",
       "64014   Yunohana SpRING! ~Mellow Times~      NS\n",
       "64015  Yurukill: The Calumniation Games     PS4\n",
       "\n",
       "[64016 rows x 2 columns]"
      ]
     },
     "execution_count": 69,
     "metadata": {},
     "output_type": "execute_result"
    }
   ],
   "source": [
    "df[\"title\"]  # Selecciona una columna\n",
    "df[[\"title\", \"console\"]]  # Selecciona múltiples columnas"
   ]
  },
  {
   "cell_type": "markdown",
   "metadata": {},
   "source": [
    "### Seleccionar filas"
   ]
  },
  {
   "cell_type": "code",
   "execution_count": 70,
   "metadata": {},
   "outputs": [
    {
     "data": {
      "text/plain": [
       "img             /games/boxart/full_6510540AmericaFrontccc.jpg\n",
       "title                                      Grand Theft Auto V\n",
       "console                                                   PS3\n",
       "genre                                                  Action\n",
       "publisher                                      Rockstar Games\n",
       "developer                                      Rockstar North\n",
       "critic_score                                              9.4\n",
       "total_sales                                             20.32\n",
       "na_sales                                                 6.37\n",
       "jp_sales                                                 0.99\n",
       "pal_sales                                                9.85\n",
       "other_sales                                              3.12\n",
       "release_date                                       2013-09-17\n",
       "last_update                                               NaN\n",
       "Name: 0, dtype: object"
      ]
     },
     "execution_count": 70,
     "metadata": {},
     "output_type": "execute_result"
    }
   ],
   "source": [
    "df.iloc[0]  # Primera fila (index basado en posición)\n",
    "df.loc[0]   # Primera fila (index basado en etiquetas)"
   ]
  },
  {
   "cell_type": "markdown",
   "metadata": {},
   "source": [
    "### Filtrado de datos"
   ]
  },
  {
   "cell_type": "code",
   "execution_count": 71,
   "metadata": {},
   "outputs": [
    {
     "data": {
      "text/html": [
       "<div>\n",
       "<style scoped>\n",
       "    .dataframe tbody tr th:only-of-type {\n",
       "        vertical-align: middle;\n",
       "    }\n",
       "\n",
       "    .dataframe tbody tr th {\n",
       "        vertical-align: top;\n",
       "    }\n",
       "\n",
       "    .dataframe thead th {\n",
       "        text-align: right;\n",
       "    }\n",
       "</style>\n",
       "<table border=\"1\" class=\"dataframe\">\n",
       "  <thead>\n",
       "    <tr style=\"text-align: right;\">\n",
       "      <th></th>\n",
       "      <th>img</th>\n",
       "      <th>title</th>\n",
       "      <th>console</th>\n",
       "      <th>genre</th>\n",
       "      <th>publisher</th>\n",
       "      <th>developer</th>\n",
       "      <th>critic_score</th>\n",
       "      <th>total_sales</th>\n",
       "      <th>na_sales</th>\n",
       "      <th>jp_sales</th>\n",
       "      <th>pal_sales</th>\n",
       "      <th>other_sales</th>\n",
       "      <th>release_date</th>\n",
       "      <th>last_update</th>\n",
       "    </tr>\n",
       "  </thead>\n",
       "  <tbody>\n",
       "    <tr>\n",
       "      <th>4</th>\n",
       "      <td>/games/boxart/full_4990510AmericaFrontccc.jpg</td>\n",
       "      <td>Call of Duty: Black Ops 3</td>\n",
       "      <td>PS4</td>\n",
       "      <td>Shooter</td>\n",
       "      <td>Activision</td>\n",
       "      <td>Treyarch</td>\n",
       "      <td>8.1</td>\n",
       "      <td>15.09</td>\n",
       "      <td>6.18</td>\n",
       "      <td>0.41</td>\n",
       "      <td>6.05</td>\n",
       "      <td>2.44</td>\n",
       "      <td>2015-11-06</td>\n",
       "      <td>2018-01-14</td>\n",
       "    </tr>\n",
       "    <tr>\n",
       "      <th>7</th>\n",
       "      <td>/games/boxart/full_4653215AmericaFrontccc.jpg</td>\n",
       "      <td>Red Dead Redemption 2</td>\n",
       "      <td>PS4</td>\n",
       "      <td>Action-Adventure</td>\n",
       "      <td>Rockstar Games</td>\n",
       "      <td>Rockstar Games</td>\n",
       "      <td>9.8</td>\n",
       "      <td>13.94</td>\n",
       "      <td>5.26</td>\n",
       "      <td>0.21</td>\n",
       "      <td>6.21</td>\n",
       "      <td>2.26</td>\n",
       "      <td>2018-10-26</td>\n",
       "      <td>2018-11-02</td>\n",
       "    </tr>\n",
       "    <tr>\n",
       "      <th>11</th>\n",
       "      <td>/games/boxart/full_4380292AmericaFrontccc.jpg</td>\n",
       "      <td>Call of Duty: WWII</td>\n",
       "      <td>PS4</td>\n",
       "      <td>Shooter</td>\n",
       "      <td>Activision</td>\n",
       "      <td>Sledgehammer Games</td>\n",
       "      <td>8.1</td>\n",
       "      <td>13.40</td>\n",
       "      <td>4.67</td>\n",
       "      <td>0.40</td>\n",
       "      <td>6.21</td>\n",
       "      <td>2.12</td>\n",
       "      <td>2017-11-03</td>\n",
       "      <td>2017-12-31</td>\n",
       "    </tr>\n",
       "    <tr>\n",
       "      <th>15</th>\n",
       "      <td>/games/boxart/full_5257064AmericaFrontccc.jpg</td>\n",
       "      <td>FIFA 18</td>\n",
       "      <td>PS4</td>\n",
       "      <td>Sports</td>\n",
       "      <td>EA Sports</td>\n",
       "      <td>EA Vancouver</td>\n",
       "      <td>8.3</td>\n",
       "      <td>11.80</td>\n",
       "      <td>1.27</td>\n",
       "      <td>0.15</td>\n",
       "      <td>8.64</td>\n",
       "      <td>1.73</td>\n",
       "      <td>2017-09-29</td>\n",
       "      <td>2018-04-02</td>\n",
       "    </tr>\n",
       "    <tr>\n",
       "      <th>17</th>\n",
       "      <td>/games/boxart/full_7661370AmericaFrontccc.jpg</td>\n",
       "      <td>FIFA 17</td>\n",
       "      <td>PS4</td>\n",
       "      <td>Sports</td>\n",
       "      <td>Electronic Arts</td>\n",
       "      <td>EA Canada</td>\n",
       "      <td>8.9</td>\n",
       "      <td>10.94</td>\n",
       "      <td>1.26</td>\n",
       "      <td>0.12</td>\n",
       "      <td>7.95</td>\n",
       "      <td>1.61</td>\n",
       "      <td>2016-09-27</td>\n",
       "      <td>2018-03-28</td>\n",
       "    </tr>\n",
       "    <tr>\n",
       "      <th>...</th>\n",
       "      <td>...</td>\n",
       "      <td>...</td>\n",
       "      <td>...</td>\n",
       "      <td>...</td>\n",
       "      <td>...</td>\n",
       "      <td>...</td>\n",
       "      <td>...</td>\n",
       "      <td>...</td>\n",
       "      <td>...</td>\n",
       "      <td>...</td>\n",
       "      <td>...</td>\n",
       "      <td>...</td>\n",
       "      <td>...</td>\n",
       "      <td>...</td>\n",
       "    </tr>\n",
       "    <tr>\n",
       "      <th>64010</th>\n",
       "      <td>/games/boxart/full_2294305JapanFrontccc.jpg</td>\n",
       "      <td>World End Syndrome</td>\n",
       "      <td>PS4</td>\n",
       "      <td>Visual Novel</td>\n",
       "      <td>Arc System Works</td>\n",
       "      <td>Arc System Works</td>\n",
       "      <td>NaN</td>\n",
       "      <td>NaN</td>\n",
       "      <td>NaN</td>\n",
       "      <td>NaN</td>\n",
       "      <td>NaN</td>\n",
       "      <td>NaN</td>\n",
       "      <td>2018-04-26</td>\n",
       "      <td>2019-04-03</td>\n",
       "    </tr>\n",
       "    <tr>\n",
       "      <th>64011</th>\n",
       "      <td>/games/boxart/full_2779838AmericaFrontccc.jpg</td>\n",
       "      <td>XBlaze Lost: Memories</td>\n",
       "      <td>PC</td>\n",
       "      <td>Visual Novel</td>\n",
       "      <td>Aksys Games</td>\n",
       "      <td>Arc System Works</td>\n",
       "      <td>NaN</td>\n",
       "      <td>NaN</td>\n",
       "      <td>NaN</td>\n",
       "      <td>NaN</td>\n",
       "      <td>NaN</td>\n",
       "      <td>NaN</td>\n",
       "      <td>2016-08-11</td>\n",
       "      <td>2019-01-28</td>\n",
       "    </tr>\n",
       "    <tr>\n",
       "      <th>64012</th>\n",
       "      <td>/games/boxart/full_8031506AmericaFrontccc.jpg</td>\n",
       "      <td>Yoru, Tomosu</td>\n",
       "      <td>PS4</td>\n",
       "      <td>Visual Novel</td>\n",
       "      <td>Nippon Ichi Software</td>\n",
       "      <td>Nippon Ichi Software</td>\n",
       "      <td>NaN</td>\n",
       "      <td>NaN</td>\n",
       "      <td>NaN</td>\n",
       "      <td>NaN</td>\n",
       "      <td>NaN</td>\n",
       "      <td>NaN</td>\n",
       "      <td>2020-07-30</td>\n",
       "      <td>2020-05-09</td>\n",
       "    </tr>\n",
       "    <tr>\n",
       "      <th>64013</th>\n",
       "      <td>/games/boxart/full_6553045AmericaFrontccc.jpg</td>\n",
       "      <td>Yoru, Tomosu</td>\n",
       "      <td>NS</td>\n",
       "      <td>Visual Novel</td>\n",
       "      <td>Nippon Ichi Software</td>\n",
       "      <td>Nippon Ichi Software</td>\n",
       "      <td>NaN</td>\n",
       "      <td>NaN</td>\n",
       "      <td>NaN</td>\n",
       "      <td>NaN</td>\n",
       "      <td>NaN</td>\n",
       "      <td>NaN</td>\n",
       "      <td>2020-07-30</td>\n",
       "      <td>2020-05-09</td>\n",
       "    </tr>\n",
       "    <tr>\n",
       "      <th>64014</th>\n",
       "      <td>/games/boxart/full_6012940JapanFrontccc.png</td>\n",
       "      <td>Yunohana SpRING! ~Mellow Times~</td>\n",
       "      <td>NS</td>\n",
       "      <td>Visual Novel</td>\n",
       "      <td>Idea Factory</td>\n",
       "      <td>Otomate</td>\n",
       "      <td>NaN</td>\n",
       "      <td>NaN</td>\n",
       "      <td>NaN</td>\n",
       "      <td>NaN</td>\n",
       "      <td>NaN</td>\n",
       "      <td>NaN</td>\n",
       "      <td>2019-02-28</td>\n",
       "      <td>2019-02-24</td>\n",
       "    </tr>\n",
       "  </tbody>\n",
       "</table>\n",
       "<p>9318 rows × 14 columns</p>\n",
       "</div>"
      ],
      "text/plain": [
       "                                                 img  \\\n",
       "4      /games/boxart/full_4990510AmericaFrontccc.jpg   \n",
       "7      /games/boxart/full_4653215AmericaFrontccc.jpg   \n",
       "11     /games/boxart/full_4380292AmericaFrontccc.jpg   \n",
       "15     /games/boxart/full_5257064AmericaFrontccc.jpg   \n",
       "17     /games/boxart/full_7661370AmericaFrontccc.jpg   \n",
       "...                                              ...   \n",
       "64010    /games/boxart/full_2294305JapanFrontccc.jpg   \n",
       "64011  /games/boxart/full_2779838AmericaFrontccc.jpg   \n",
       "64012  /games/boxart/full_8031506AmericaFrontccc.jpg   \n",
       "64013  /games/boxart/full_6553045AmericaFrontccc.jpg   \n",
       "64014    /games/boxart/full_6012940JapanFrontccc.png   \n",
       "\n",
       "                                 title console             genre  \\\n",
       "4            Call of Duty: Black Ops 3     PS4           Shooter   \n",
       "7                Red Dead Redemption 2     PS4  Action-Adventure   \n",
       "11                  Call of Duty: WWII     PS4           Shooter   \n",
       "15                             FIFA 18     PS4            Sports   \n",
       "17                             FIFA 17     PS4            Sports   \n",
       "...                                ...     ...               ...   \n",
       "64010               World End Syndrome     PS4      Visual Novel   \n",
       "64011            XBlaze Lost: Memories      PC      Visual Novel   \n",
       "64012                     Yoru, Tomosu     PS4      Visual Novel   \n",
       "64013                     Yoru, Tomosu      NS      Visual Novel   \n",
       "64014  Yunohana SpRING! ~Mellow Times~      NS      Visual Novel   \n",
       "\n",
       "                  publisher             developer  critic_score  total_sales  \\\n",
       "4                Activision              Treyarch           8.1        15.09   \n",
       "7            Rockstar Games        Rockstar Games           9.8        13.94   \n",
       "11               Activision    Sledgehammer Games           8.1        13.40   \n",
       "15                EA Sports          EA Vancouver           8.3        11.80   \n",
       "17          Electronic Arts             EA Canada           8.9        10.94   \n",
       "...                     ...                   ...           ...          ...   \n",
       "64010      Arc System Works      Arc System Works           NaN          NaN   \n",
       "64011           Aksys Games      Arc System Works           NaN          NaN   \n",
       "64012  Nippon Ichi Software  Nippon Ichi Software           NaN          NaN   \n",
       "64013  Nippon Ichi Software  Nippon Ichi Software           NaN          NaN   \n",
       "64014          Idea Factory               Otomate           NaN          NaN   \n",
       "\n",
       "       na_sales  jp_sales  pal_sales  other_sales release_date last_update  \n",
       "4          6.18      0.41       6.05         2.44   2015-11-06  2018-01-14  \n",
       "7          5.26      0.21       6.21         2.26   2018-10-26  2018-11-02  \n",
       "11         4.67      0.40       6.21         2.12   2017-11-03  2017-12-31  \n",
       "15         1.27      0.15       8.64         1.73   2017-09-29  2018-04-02  \n",
       "17         1.26      0.12       7.95         1.61   2016-09-27  2018-03-28  \n",
       "...         ...       ...        ...          ...          ...         ...  \n",
       "64010       NaN       NaN        NaN          NaN   2018-04-26  2019-04-03  \n",
       "64011       NaN       NaN        NaN          NaN   2016-08-11  2019-01-28  \n",
       "64012       NaN       NaN        NaN          NaN   2020-07-30  2020-05-09  \n",
       "64013       NaN       NaN        NaN          NaN   2020-07-30  2020-05-09  \n",
       "64014       NaN       NaN        NaN          NaN   2019-02-28  2019-02-24  \n",
       "\n",
       "[9318 rows x 14 columns]"
      ]
     },
     "execution_count": 71,
     "metadata": {},
     "output_type": "execute_result"
    }
   ],
   "source": [
    "df[df[\"release_date\"] > '2015-01-01']  # Filtrar personas con edad mayor a 25"
   ]
  },
  {
   "cell_type": "markdown",
   "metadata": {},
   "source": [
    "## Modificar datos"
   ]
  },
  {
   "cell_type": "markdown",
   "metadata": {},
   "source": [
    "### Añadir una nueva columna"
   ]
  },
  {
   "cell_type": "code",
   "execution_count": 72,
   "metadata": {},
   "outputs": [],
   "source": [
    "df[\"cost\"] = 300  # Añadir un valor constante a todas las filas"
   ]
  },
  {
   "cell_type": "markdown",
   "metadata": {},
   "source": [
    "### Eliminar columnas o filas"
   ]
  },
  {
   "cell_type": "code",
   "execution_count": 73,
   "metadata": {},
   "outputs": [],
   "source": [
    "df.drop(columns=[\"cost\"], inplace=True)  # Eliminar columna\n",
    "df.drop(index=0, inplace=True)  # Eliminar primera fila"
   ]
  },
  {
   "cell_type": "markdown",
   "metadata": {},
   "source": [
    "### Renombrar columnas"
   ]
  },
  {
   "cell_type": "code",
   "execution_count": 74,
   "metadata": {},
   "outputs": [
    {
     "data": {
      "text/plain": [
       "1                      Grand Theft Auto V\n",
       "2             Grand Theft Auto: Vice City\n",
       "3                      Grand Theft Auto V\n",
       "4               Call of Duty: Black Ops 3\n",
       "5          Call of Duty: Modern Warfare 3\n",
       "                       ...               \n",
       "64011               XBlaze Lost: Memories\n",
       "64012                        Yoru, Tomosu\n",
       "64013                        Yoru, Tomosu\n",
       "64014     Yunohana SpRING! ~Mellow Times~\n",
       "64015    Yurukill: The Calumniation Games\n",
       "Name: Nombre, Length: 64015, dtype: object"
      ]
     },
     "execution_count": 74,
     "metadata": {},
     "output_type": "execute_result"
    }
   ],
   "source": [
    "df.rename(columns={\"title\": \"Nombre\"}, inplace=True)\n",
    "df[\"Nombre\"]"
   ]
  },
  {
   "cell_type": "markdown",
   "metadata": {},
   "source": [
    "## Manejo de valores nulos"
   ]
  },
  {
   "cell_type": "code",
   "execution_count": 75,
   "metadata": {},
   "outputs": [
    {
     "name": "stdout",
     "output_type": "stream",
     "text": [
      "img                 0\n",
      "Nombre              0\n",
      "console             0\n",
      "genre               0\n",
      "publisher           0\n",
      "developer          17\n",
      "critic_score    57338\n",
      "total_sales     45094\n",
      "na_sales        51379\n",
      "jp_sales        57290\n",
      "pal_sales       51192\n",
      "other_sales     48888\n",
      "release_date     7051\n",
      "last_update     46136\n",
      "dtype: int64\n",
      "None\n",
      "None\n"
     ]
    }
   ],
   "source": [
    "print(df.isnull().sum())  # Contar valores nulos por columna\n",
    "print(df.dropna(inplace=True))  # Eliminar filas con valores nulos\n",
    "print(df.fillna(\"Desconocido\", inplace=True))  # Rellenar valores nulos"
   ]
  },
  {
   "cell_type": "markdown",
   "metadata": {},
   "source": [
    "## Operaciones estadísticas\n"
   ]
  },
  {
   "cell_type": "code",
   "execution_count": 76,
   "metadata": {},
   "outputs": [
    {
     "data": {
      "text/plain": [
       "np.float64(1.3816339419367283)"
      ]
     },
     "execution_count": 76,
     "metadata": {},
     "output_type": "execute_result"
    }
   ],
   "source": [
    "df[\"critic_score\"].mean()  # Promedio\n",
    "df[\"other_sales\"].sum()   # Suma total\n",
    "df[\"release_date\"].min()   # Mínimo\n",
    "df[\"critic_score\"].max()   # Máximo\n",
    "df[\"pal_sales\"].std()   # Desviación estándar"
   ]
  },
  {
   "cell_type": "markdown",
   "metadata": {},
   "source": [
    "## Agrupación de datos"
   ]
  },
  {
   "cell_type": "code",
   "execution_count": 77,
   "metadata": {},
   "outputs": [
    {
     "data": {
      "text/plain": [
       "genre\n",
       "Action              2.036061\n",
       "Action-Adventure    1.889063\n",
       "Adventure           0.940000\n",
       "Board Game          0.300000\n",
       "Fighting            0.465000\n",
       "MMO                 0.320000\n",
       "Misc                1.170000\n",
       "Music               1.360000\n",
       "Party               0.575000\n",
       "Platform            0.716400\n",
       "Puzzle              0.430000\n",
       "Racing              0.957391\n",
       "Role-Playing        1.400000\n",
       "Sandbox             1.890000\n",
       "Shooter             4.198696\n",
       "Simulation          0.508571\n",
       "Sports              2.864583\n",
       "Strategy            0.336667\n",
       "Name: total_sales, dtype: float64"
      ]
     },
     "execution_count": 77,
     "metadata": {},
     "output_type": "execute_result"
    }
   ],
   "source": [
    "df.groupby(\"genre\")[\"total_sales\"].mean()  # Promedio ventas por género"
   ]
  },
  {
   "cell_type": "markdown",
   "metadata": {},
   "source": [
    "## Ordenar valores"
   ]
  },
  {
   "cell_type": "code",
   "execution_count": 82,
   "metadata": {},
   "outputs": [
    {
     "name": "stdout",
     "output_type": "stream",
     "text": [
      "None\n"
     ]
    }
   ],
   "source": [
    "print(df.sort_values(by=\"critic_score\", ascending=False, inplace=True))  # Ordenar por edad descendente"
   ]
  }
 ],
 "metadata": {
  "kernelspec": {
   "display_name": "Python 3",
   "language": "python",
   "name": "python3"
  },
  "language_info": {
   "codemirror_mode": {
    "name": "ipython",
    "version": 3
   },
   "file_extension": ".py",
   "mimetype": "text/x-python",
   "name": "python",
   "nbconvert_exporter": "python",
   "pygments_lexer": "ipython3",
   "version": "3.12.6"
  }
 },
 "nbformat": 4,
 "nbformat_minor": 2
}
