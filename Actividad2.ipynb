{
 "cells": [
  {
   "cell_type": "markdown",
   "metadata": {},
   "source": [
    "# FORMATOS DE ARCHIVOS E IMPORTACIÓN DE DATOS"
   ]
  },
  {
   "cell_type": "markdown",
   "metadata": {},
   "source": [
    "## Importar la librería"
   ]
  },
  {
   "cell_type": "code",
   "execution_count": 2,
   "metadata": {},
   "outputs": [],
   "source": [
    "import pandas as pd"
   ]
  },
  {
   "cell_type": "markdown",
   "metadata": {},
   "source": [
    "## Estructuras básicas"
   ]
  },
  {
   "cell_type": "markdown",
   "metadata": {},
   "source": [
    "### Series"
   ]
  },
  {
   "cell_type": "code",
   "execution_count": 3,
   "metadata": {},
   "outputs": [],
   "source": [
    "s = pd.Series([1, 3, 5, 7, 9])"
   ]
  },
  {
   "cell_type": "markdown",
   "metadata": {},
   "source": [
    "### DataFrame"
   ]
  },
  {
   "cell_type": "code",
   "execution_count": 4,
   "metadata": {},
   "outputs": [
    {
     "data": {
      "text/html": [
       "<div>\n",
       "<style scoped>\n",
       "    .dataframe tbody tr th:only-of-type {\n",
       "        vertical-align: middle;\n",
       "    }\n",
       "\n",
       "    .dataframe tbody tr th {\n",
       "        vertical-align: top;\n",
       "    }\n",
       "\n",
       "    .dataframe thead th {\n",
       "        text-align: right;\n",
       "    }\n",
       "</style>\n",
       "<table border=\"1\" class=\"dataframe\">\n",
       "  <thead>\n",
       "    <tr style=\"text-align: right;\">\n",
       "      <th></th>\n",
       "      <th>Nombre</th>\n",
       "      <th>Edad</th>\n",
       "      <th>Ciudad</th>\n",
       "    </tr>\n",
       "  </thead>\n",
       "  <tbody>\n",
       "    <tr>\n",
       "      <th>0</th>\n",
       "      <td>Ana</td>\n",
       "      <td>23</td>\n",
       "      <td>CDMX</td>\n",
       "    </tr>\n",
       "    <tr>\n",
       "      <th>1</th>\n",
       "      <td>Luis</td>\n",
       "      <td>30</td>\n",
       "      <td>Monterrey</td>\n",
       "    </tr>\n",
       "    <tr>\n",
       "      <th>2</th>\n",
       "      <td>Carlos</td>\n",
       "      <td>25</td>\n",
       "      <td>Guadalajara</td>\n",
       "    </tr>\n",
       "  </tbody>\n",
       "</table>\n",
       "</div>"
      ],
      "text/plain": [
       "   Nombre  Edad       Ciudad\n",
       "0     Ana    23         CDMX\n",
       "1    Luis    30    Monterrey\n",
       "2  Carlos    25  Guadalajara"
      ]
     },
     "execution_count": 4,
     "metadata": {},
     "output_type": "execute_result"
    }
   ],
   "source": [
    "data = {'Nombre': ['Ana', 'Luis', 'Carlos'],\n",
    "        'Edad': [23, 30, 25],\n",
    "        'Ciudad': ['CDMX', 'Monterrey', 'Guadalajara']\n",
    "}\n",
    "df = pd.DataFrame(data)\n",
    "df"
   ]
  },
  {
   "cell_type": "markdown",
   "metadata": {},
   "source": [
    "## Leer y escribir archivos"
   ]
  },
  {
   "cell_type": "markdown",
   "metadata": {},
   "source": [
    "### Leer archivos"
   ]
  },
  {
   "cell_type": "code",
   "execution_count": 5,
   "metadata": {},
   "outputs": [],
   "source": [
    "df = pd.read_csv(\"Mobiles_Dataset_(2025).csv\", encoding=\"unicode_escape\")  # Leer un CSV\n",
    "# df = pd.read_excel(\"archivo.xlsx\")  # Leer un Excel\n",
    "# df = pd.read_json(\"archivo.json\")  # Leer un JSON"
   ]
  },
  {
   "cell_type": "markdown",
   "metadata": {},
   "source": [
    "### Guardar archivos"
   ]
  },
  {
   "cell_type": "code",
   "execution_count": 6,
   "metadata": {},
   "outputs": [],
   "source": [
    "# df.to_csv(\"archivo_nuevo.csv\", index=False)\n",
    "# df.to_excel(\"archivo_nuevo.xlsx\", index=False)"
   ]
  },
  {
   "cell_type": "markdown",
   "metadata": {},
   "source": [
    "## Inspeccionar el DataFrame"
   ]
  },
  {
   "cell_type": "code",
   "execution_count": 7,
   "metadata": {},
   "outputs": [
    {
     "name": "stdout",
     "output_type": "stream",
     "text": [
      "<class 'pandas.core.frame.DataFrame'>\n",
      "RangeIndex: 930 entries, 0 to 929\n",
      "Data columns (total 15 columns):\n",
      " #   Column                     Non-Null Count  Dtype \n",
      "---  ------                     --------------  ----- \n",
      " 0   Company Name               930 non-null    object\n",
      " 1   Model Name                 930 non-null    object\n",
      " 2   Mobile Weight              930 non-null    object\n",
      " 3   RAM                        930 non-null    object\n",
      " 4   Front Camera               930 non-null    object\n",
      " 5   Back Camera                930 non-null    object\n",
      " 6   Processor                  930 non-null    object\n",
      " 7   Battery Capacity           930 non-null    object\n",
      " 8   Screen Size                930 non-null    object\n",
      " 9   Launched Price (Pakistan)  930 non-null    object\n",
      " 10  Launched Price (India)     930 non-null    object\n",
      " 11  Launched Price (China)     930 non-null    object\n",
      " 12  Launched Price (USA)       930 non-null    object\n",
      " 13  Launched Price (Dubai)     930 non-null    object\n",
      " 14  Launched Year              930 non-null    int64 \n",
      "dtypes: int64(1), object(14)\n",
      "memory usage: 109.1+ KB\n"
     ]
    },
    {
     "data": {
      "text/plain": [
       "(930, 15)"
      ]
     },
     "execution_count": 7,
     "metadata": {},
     "output_type": "execute_result"
    }
   ],
   "source": [
    "df.head()  # Muestra las primeras 5 filas\n",
    "df.tail()  # Muestra las últimas 5 filas\n",
    "df.info()  # Información general del DataFrame\n",
    "df.describe()  # Estadísticas descriptivas\n",
    "df.shape  # Tamaño del DataFrame (filas, columnas)"
   ]
  },
  {
   "cell_type": "markdown",
   "metadata": {},
   "source": [
    "## Selección de datos"
   ]
  },
  {
   "cell_type": "markdown",
   "metadata": {},
   "source": [
    "### Seleccionar columnas"
   ]
  },
  {
   "cell_type": "code",
   "execution_count": 8,
   "metadata": {},
   "outputs": [
    {
     "data": {
      "text/html": [
       "<div>\n",
       "<style scoped>\n",
       "    .dataframe tbody tr th:only-of-type {\n",
       "        vertical-align: middle;\n",
       "    }\n",
       "\n",
       "    .dataframe tbody tr th {\n",
       "        vertical-align: top;\n",
       "    }\n",
       "\n",
       "    .dataframe thead th {\n",
       "        text-align: right;\n",
       "    }\n",
       "</style>\n",
       "<table border=\"1\" class=\"dataframe\">\n",
       "  <thead>\n",
       "    <tr style=\"text-align: right;\">\n",
       "      <th></th>\n",
       "      <th>Company Name</th>\n",
       "      <th>Model Name</th>\n",
       "      <th>Launched Price (USA)</th>\n",
       "    </tr>\n",
       "  </thead>\n",
       "  <tbody>\n",
       "    <tr>\n",
       "      <th>0</th>\n",
       "      <td>Apple</td>\n",
       "      <td>iPhone 16 128GB</td>\n",
       "      <td>USD 799</td>\n",
       "    </tr>\n",
       "    <tr>\n",
       "      <th>1</th>\n",
       "      <td>Apple</td>\n",
       "      <td>iPhone 16 256GB</td>\n",
       "      <td>USD 849</td>\n",
       "    </tr>\n",
       "    <tr>\n",
       "      <th>2</th>\n",
       "      <td>Apple</td>\n",
       "      <td>iPhone 16 512GB</td>\n",
       "      <td>USD 899</td>\n",
       "    </tr>\n",
       "    <tr>\n",
       "      <th>3</th>\n",
       "      <td>Apple</td>\n",
       "      <td>iPhone 16 Plus 128GB</td>\n",
       "      <td>USD 899</td>\n",
       "    </tr>\n",
       "    <tr>\n",
       "      <th>4</th>\n",
       "      <td>Apple</td>\n",
       "      <td>iPhone 16 Plus 256GB</td>\n",
       "      <td>USD 949</td>\n",
       "    </tr>\n",
       "    <tr>\n",
       "      <th>...</th>\n",
       "      <td>...</td>\n",
       "      <td>...</td>\n",
       "      <td>...</td>\n",
       "    </tr>\n",
       "    <tr>\n",
       "      <th>925</th>\n",
       "      <td>Poco</td>\n",
       "      <td>Pad 5G 128GB</td>\n",
       "      <td>USD 280</td>\n",
       "    </tr>\n",
       "    <tr>\n",
       "      <th>926</th>\n",
       "      <td>Poco</td>\n",
       "      <td>Pad 5G 256GB</td>\n",
       "      <td>USD 300</td>\n",
       "    </tr>\n",
       "    <tr>\n",
       "      <th>927</th>\n",
       "      <td>Samsung</td>\n",
       "      <td>Galaxy Z Fold6 256GB</td>\n",
       "      <td>USD 1,899</td>\n",
       "    </tr>\n",
       "    <tr>\n",
       "      <th>928</th>\n",
       "      <td>Samsung</td>\n",
       "      <td>Galaxy Z Fold6 512GB</td>\n",
       "      <td>USD 1719</td>\n",
       "    </tr>\n",
       "    <tr>\n",
       "      <th>929</th>\n",
       "      <td>Samsung</td>\n",
       "      <td>Galaxy Z Fold6 1TB</td>\n",
       "      <td>USD 2,259</td>\n",
       "    </tr>\n",
       "  </tbody>\n",
       "</table>\n",
       "<p>930 rows × 3 columns</p>\n",
       "</div>"
      ],
      "text/plain": [
       "    Company Name            Model Name Launched Price (USA)\n",
       "0          Apple       iPhone 16 128GB              USD 799\n",
       "1          Apple       iPhone 16 256GB              USD 849\n",
       "2          Apple       iPhone 16 512GB              USD 899\n",
       "3          Apple  iPhone 16 Plus 128GB              USD 899\n",
       "4          Apple  iPhone 16 Plus 256GB              USD 949\n",
       "..           ...                   ...                  ...\n",
       "925         Poco          Pad 5G 128GB              USD 280\n",
       "926         Poco          Pad 5G 256GB              USD 300\n",
       "927      Samsung  Galaxy Z Fold6 256GB            USD 1,899\n",
       "928      Samsung  Galaxy Z Fold6 512GB             USD 1719\n",
       "929      Samsung    Galaxy Z Fold6 1TB            USD 2,259\n",
       "\n",
       "[930 rows x 3 columns]"
      ]
     },
     "execution_count": 8,
     "metadata": {},
     "output_type": "execute_result"
    }
   ],
   "source": [
    "df[\"Company Name\"]  # Selecciona una columna\n",
    "df[[\"Company Name\", \"Model Name\",\"Launched Price (USA)\"]]  # Selecciona múltiples columnas"
   ]
  },
  {
   "cell_type": "markdown",
   "metadata": {},
   "source": [
    "### Seleccionar filas"
   ]
  },
  {
   "cell_type": "code",
   "execution_count": 9,
   "metadata": {},
   "outputs": [
    {
     "data": {
      "text/plain": [
       "Company Name                           Apple\n",
       "Model Name                   iPhone 16 128GB\n",
       "Mobile Weight                           174g\n",
       "RAM                                      6GB\n",
       "Front Camera                            12MP\n",
       "Back Camera                             48MP\n",
       "Processor                         A17 Bionic\n",
       "Battery Capacity                    3,600mAh\n",
       "Screen Size                       6.1 inches\n",
       "Launched Price (Pakistan)        PKR 224,999\n",
       "Launched Price (India)            INR 79,999\n",
       "Launched Price (China)             CNY 5,799\n",
       "Launched Price (USA)                 USD 799\n",
       "Launched Price (Dubai)             AED 2,799\n",
       "Launched Year                           2024\n",
       "Name: 0, dtype: object"
      ]
     },
     "execution_count": 9,
     "metadata": {},
     "output_type": "execute_result"
    }
   ],
   "source": [
    "df.iloc[0]  # Primera fila (index basado en posición)\n",
    "df.loc[0]   # Primera fila (index basado en etiquetas)"
   ]
  },
  {
   "cell_type": "markdown",
   "metadata": {},
   "source": [
    "### Filtrado de datos"
   ]
  },
  {
   "cell_type": "code",
   "execution_count": 34,
   "metadata": {},
   "outputs": [
    {
     "data": {
      "text/plain": [
       "np.int64(124)"
      ]
     },
     "execution_count": 34,
     "metadata": {},
     "output_type": "execute_result"
    }
   ],
   "source": [
    "df[df[\"Screen Size\"] == '6.7 inches']  # Filtrar por tamaño de pantalla"
   ]
  },
  {
   "cell_type": "markdown",
   "metadata": {},
   "source": [
    "## Modificar datos"
   ]
  },
  {
   "cell_type": "markdown",
   "metadata": {},
   "source": [
    "### Añadir una nueva columna"
   ]
  },
  {
   "cell_type": "code",
   "execution_count": 11,
   "metadata": {},
   "outputs": [],
   "source": [
    "df[\"cost\"] = 300  # Añadir un valor constante a todas las filas"
   ]
  },
  {
   "cell_type": "markdown",
   "metadata": {},
   "source": [
    "### Eliminar columnas o filas"
   ]
  },
  {
   "cell_type": "code",
   "execution_count": 12,
   "metadata": {},
   "outputs": [],
   "source": [
    "df.drop(columns=[\"cost\"], inplace=True)  # Eliminar columna\n",
    "df.drop(index=0, inplace=True)  # Eliminar primera fila"
   ]
  },
  {
   "cell_type": "markdown",
   "metadata": {},
   "source": [
    "### Renombrar columnas"
   ]
  },
  {
   "cell_type": "code",
   "execution_count": 13,
   "metadata": {},
   "outputs": [
    {
     "data": {
      "text/plain": [
       "1        Apple\n",
       "2        Apple\n",
       "3        Apple\n",
       "4        Apple\n",
       "5        Apple\n",
       "        ...   \n",
       "925       Poco\n",
       "926       Poco\n",
       "927    Samsung\n",
       "928    Samsung\n",
       "929    Samsung\n",
       "Name: Compañia, Length: 929, dtype: object"
      ]
     },
     "execution_count": 13,
     "metadata": {},
     "output_type": "execute_result"
    }
   ],
   "source": [
    "df.rename(columns={\"Company Name\": \"Compañia\"}, inplace=True)\n",
    "df[\"Compañia\"]"
   ]
  },
  {
   "cell_type": "markdown",
   "metadata": {},
   "source": [
    "## Manejo de valores nulos"
   ]
  },
  {
   "cell_type": "code",
   "execution_count": 14,
   "metadata": {},
   "outputs": [
    {
     "name": "stdout",
     "output_type": "stream",
     "text": [
      "Compañia                     0\n",
      "Model Name                   0\n",
      "Mobile Weight                0\n",
      "RAM                          0\n",
      "Front Camera                 0\n",
      "Back Camera                  0\n",
      "Processor                    0\n",
      "Battery Capacity             0\n",
      "Screen Size                  0\n",
      "Launched Price (Pakistan)    0\n",
      "Launched Price (India)       0\n",
      "Launched Price (China)       0\n",
      "Launched Price (USA)         0\n",
      "Launched Price (Dubai)       0\n",
      "Launched Year                0\n",
      "dtype: int64\n",
      "None\n",
      "None\n"
     ]
    }
   ],
   "source": [
    "print(df.isnull().sum())  # Contar valores nulos por columna\n",
    "print(df.dropna(inplace=True))  # Eliminar filas con valores nulos\n",
    "print(df.fillna(\"Desconocido\", inplace=True))  # Rellenar valores nulos"
   ]
  },
  {
   "cell_type": "markdown",
   "metadata": {},
   "source": [
    "## Operaciones estadísticas\n"
   ]
  },
  {
   "cell_type": "code",
   "execution_count": 19,
   "metadata": {},
   "outputs": [
    {
     "data": {
      "text/plain": [
       "np.float64(228.3255113024758)"
      ]
     },
     "execution_count": 19,
     "metadata": {},
     "output_type": "execute_result"
    }
   ],
   "source": [
    "# df[\"Mobile Weight\"] = df[\"Mobile Weight\"].str[:-1] # Quitar el último valor de un string\n",
    "df[\"Mobile Weight\"] = df[\"Mobile Weight\"].str.replace(\"g\",\"\")\n",
    "df[\"Mobile Weight\"] = df[\"Mobile Weight\"].astype(float)  # Convertir string a float\n",
    "df[\"Mobile Weight\"].mean()  # Media\n",
    "# df[\"Compañia\"].nunique()  # Número de compañías únicas\n",
    "# df[\"other_sales\"].sum()   # Suma total\n",
    "# df[\"Launched Price (India)\"] = df[\"Launched Price (India)\"].str.replace(\",\", \"\").str.replace(\"INR\", \"\").astype(int)\n",
    "# df[\"Launched Price(India)\"].min()   # Mínimo\n",
    "# df[\"critic_score\"].max()   # Máximo\n",
    "# df[\"pal_sales\"].std()   # Desviación estándar"
   ]
  },
  {
   "cell_type": "markdown",
   "metadata": {},
   "source": [
    "## Agrupación de datos"
   ]
  },
  {
   "cell_type": "code",
   "execution_count": 37,
   "metadata": {},
   "outputs": [
    {
     "data": {
      "text/html": [
       "<div>\n",
       "<style scoped>\n",
       "    .dataframe tbody tr th:only-of-type {\n",
       "        vertical-align: middle;\n",
       "    }\n",
       "\n",
       "    .dataframe tbody tr th {\n",
       "        vertical-align: top;\n",
       "    }\n",
       "\n",
       "    .dataframe thead th {\n",
       "        text-align: right;\n",
       "    }\n",
       "</style>\n",
       "<table border=\"1\" class=\"dataframe\">\n",
       "  <thead>\n",
       "    <tr style=\"text-align: right;\">\n",
       "      <th></th>\n",
       "      <th>Company Name</th>\n",
       "      <th>Model Name</th>\n",
       "      <th>Mobile Weight</th>\n",
       "      <th>RAM</th>\n",
       "      <th>Front Camera</th>\n",
       "      <th>Back Camera</th>\n",
       "      <th>Processor</th>\n",
       "      <th>Battery Capacity</th>\n",
       "      <th>Launched Price (Pakistan)</th>\n",
       "      <th>Launched Price (India)</th>\n",
       "      <th>Launched Price (China)</th>\n",
       "      <th>Launched Price (USA)</th>\n",
       "      <th>Launched Price (Dubai)</th>\n",
       "      <th>Launched Year</th>\n",
       "    </tr>\n",
       "    <tr>\n",
       "      <th>Screen Size</th>\n",
       "      <th></th>\n",
       "      <th></th>\n",
       "      <th></th>\n",
       "      <th></th>\n",
       "      <th></th>\n",
       "      <th></th>\n",
       "      <th></th>\n",
       "      <th></th>\n",
       "      <th></th>\n",
       "      <th></th>\n",
       "      <th></th>\n",
       "      <th></th>\n",
       "      <th></th>\n",
       "      <th></th>\n",
       "    </tr>\n",
       "  </thead>\n",
       "  <tbody>\n",
       "    <tr>\n",
       "      <th>10.1 inches</th>\n",
       "      <td>7</td>\n",
       "      <td>7</td>\n",
       "      <td>7</td>\n",
       "      <td>7</td>\n",
       "      <td>7</td>\n",
       "      <td>7</td>\n",
       "      <td>7</td>\n",
       "      <td>7</td>\n",
       "      <td>7</td>\n",
       "      <td>7</td>\n",
       "      <td>7</td>\n",
       "      <td>7</td>\n",
       "      <td>7</td>\n",
       "      <td>7</td>\n",
       "    </tr>\n",
       "    <tr>\n",
       "      <th>10.2 inches</th>\n",
       "      <td>2</td>\n",
       "      <td>2</td>\n",
       "      <td>2</td>\n",
       "      <td>2</td>\n",
       "      <td>2</td>\n",
       "      <td>2</td>\n",
       "      <td>2</td>\n",
       "      <td>2</td>\n",
       "      <td>2</td>\n",
       "      <td>2</td>\n",
       "      <td>2</td>\n",
       "      <td>2</td>\n",
       "      <td>2</td>\n",
       "      <td>2</td>\n",
       "    </tr>\n",
       "    <tr>\n",
       "      <th>10.4 inches</th>\n",
       "      <td>10</td>\n",
       "      <td>10</td>\n",
       "      <td>10</td>\n",
       "      <td>10</td>\n",
       "      <td>10</td>\n",
       "      <td>10</td>\n",
       "      <td>10</td>\n",
       "      <td>10</td>\n",
       "      <td>10</td>\n",
       "      <td>10</td>\n",
       "      <td>10</td>\n",
       "      <td>10</td>\n",
       "      <td>10</td>\n",
       "      <td>10</td>\n",
       "    </tr>\n",
       "    <tr>\n",
       "      <th>10.5 inches</th>\n",
       "      <td>3</td>\n",
       "      <td>3</td>\n",
       "      <td>3</td>\n",
       "      <td>3</td>\n",
       "      <td>3</td>\n",
       "      <td>3</td>\n",
       "      <td>3</td>\n",
       "      <td>3</td>\n",
       "      <td>3</td>\n",
       "      <td>3</td>\n",
       "      <td>3</td>\n",
       "      <td>3</td>\n",
       "      <td>3</td>\n",
       "      <td>3</td>\n",
       "    </tr>\n",
       "    <tr>\n",
       "      <th>10.9 inches</th>\n",
       "      <td>4</td>\n",
       "      <td>4</td>\n",
       "      <td>4</td>\n",
       "      <td>4</td>\n",
       "      <td>4</td>\n",
       "      <td>4</td>\n",
       "      <td>4</td>\n",
       "      <td>4</td>\n",
       "      <td>4</td>\n",
       "      <td>4</td>\n",
       "      <td>4</td>\n",
       "      <td>4</td>\n",
       "      <td>4</td>\n",
       "      <td>4</td>\n",
       "    </tr>\n",
       "    <tr>\n",
       "      <th>...</th>\n",
       "      <td>...</td>\n",
       "      <td>...</td>\n",
       "      <td>...</td>\n",
       "      <td>...</td>\n",
       "      <td>...</td>\n",
       "      <td>...</td>\n",
       "      <td>...</td>\n",
       "      <td>...</td>\n",
       "      <td>...</td>\n",
       "      <td>...</td>\n",
       "      <td>...</td>\n",
       "      <td>...</td>\n",
       "      <td>...</td>\n",
       "      <td>...</td>\n",
       "    </tr>\n",
       "    <tr>\n",
       "      <th>7.93 inches</th>\n",
       "      <td>1</td>\n",
       "      <td>1</td>\n",
       "      <td>1</td>\n",
       "      <td>1</td>\n",
       "      <td>1</td>\n",
       "      <td>1</td>\n",
       "      <td>1</td>\n",
       "      <td>1</td>\n",
       "      <td>1</td>\n",
       "      <td>1</td>\n",
       "      <td>1</td>\n",
       "      <td>1</td>\n",
       "      <td>1</td>\n",
       "      <td>1</td>\n",
       "    </tr>\n",
       "    <tr>\n",
       "      <th>8 inches</th>\n",
       "      <td>3</td>\n",
       "      <td>3</td>\n",
       "      <td>3</td>\n",
       "      <td>3</td>\n",
       "      <td>3</td>\n",
       "      <td>3</td>\n",
       "      <td>3</td>\n",
       "      <td>3</td>\n",
       "      <td>3</td>\n",
       "      <td>3</td>\n",
       "      <td>3</td>\n",
       "      <td>3</td>\n",
       "      <td>3</td>\n",
       "      <td>3</td>\n",
       "    </tr>\n",
       "    <tr>\n",
       "      <th>8.0 inches (unfolded)</th>\n",
       "      <td>1</td>\n",
       "      <td>1</td>\n",
       "      <td>1</td>\n",
       "      <td>1</td>\n",
       "      <td>1</td>\n",
       "      <td>1</td>\n",
       "      <td>1</td>\n",
       "      <td>1</td>\n",
       "      <td>1</td>\n",
       "      <td>1</td>\n",
       "      <td>1</td>\n",
       "      <td>1</td>\n",
       "      <td>1</td>\n",
       "      <td>1</td>\n",
       "    </tr>\n",
       "    <tr>\n",
       "      <th>8.7 inches</th>\n",
       "      <td>4</td>\n",
       "      <td>4</td>\n",
       "      <td>4</td>\n",
       "      <td>4</td>\n",
       "      <td>4</td>\n",
       "      <td>4</td>\n",
       "      <td>4</td>\n",
       "      <td>4</td>\n",
       "      <td>4</td>\n",
       "      <td>4</td>\n",
       "      <td>4</td>\n",
       "      <td>4</td>\n",
       "      <td>4</td>\n",
       "      <td>4</td>\n",
       "    </tr>\n",
       "    <tr>\n",
       "      <th>9.7 inches</th>\n",
       "      <td>5</td>\n",
       "      <td>5</td>\n",
       "      <td>5</td>\n",
       "      <td>5</td>\n",
       "      <td>5</td>\n",
       "      <td>5</td>\n",
       "      <td>5</td>\n",
       "      <td>5</td>\n",
       "      <td>5</td>\n",
       "      <td>5</td>\n",
       "      <td>5</td>\n",
       "      <td>5</td>\n",
       "      <td>5</td>\n",
       "      <td>5</td>\n",
       "    </tr>\n",
       "  </tbody>\n",
       "</table>\n",
       "<p>97 rows × 14 columns</p>\n",
       "</div>"
      ],
      "text/plain": [
       "                       Company Name  Model Name  Mobile Weight  RAM  \\\n",
       "Screen Size                                                           \n",
       "10.1 inches                       7           7              7    7   \n",
       "10.2 inches                       2           2              2    2   \n",
       "10.4 inches                      10          10             10   10   \n",
       "10.5 inches                       3           3              3    3   \n",
       "10.9 inches                       4           4              4    4   \n",
       "...                             ...         ...            ...  ...   \n",
       "7.93 inches                       1           1              1    1   \n",
       "8 inches                          3           3              3    3   \n",
       "8.0 inches (unfolded)             1           1              1    1   \n",
       "8.7 inches                        4           4              4    4   \n",
       "9.7 inches                        5           5              5    5   \n",
       "\n",
       "                       Front Camera  Back Camera  Processor  Battery Capacity  \\\n",
       "Screen Size                                                                     \n",
       "10.1 inches                       7            7          7                 7   \n",
       "10.2 inches                       2            2          2                 2   \n",
       "10.4 inches                      10           10         10                10   \n",
       "10.5 inches                       3            3          3                 3   \n",
       "10.9 inches                       4            4          4                 4   \n",
       "...                             ...          ...        ...               ...   \n",
       "7.93 inches                       1            1          1                 1   \n",
       "8 inches                          3            3          3                 3   \n",
       "8.0 inches (unfolded)             1            1          1                 1   \n",
       "8.7 inches                        4            4          4                 4   \n",
       "9.7 inches                        5            5          5                 5   \n",
       "\n",
       "                       Launched Price (Pakistan)  Launched Price (India)  \\\n",
       "Screen Size                                                                \n",
       "10.1 inches                                    7                       7   \n",
       "10.2 inches                                    2                       2   \n",
       "10.4 inches                                   10                      10   \n",
       "10.5 inches                                    3                       3   \n",
       "10.9 inches                                    4                       4   \n",
       "...                                          ...                     ...   \n",
       "7.93 inches                                    1                       1   \n",
       "8 inches                                       3                       3   \n",
       "8.0 inches (unfolded)                          1                       1   \n",
       "8.7 inches                                     4                       4   \n",
       "9.7 inches                                     5                       5   \n",
       "\n",
       "                       Launched Price (China)  Launched Price (USA)  \\\n",
       "Screen Size                                                           \n",
       "10.1 inches                                 7                     7   \n",
       "10.2 inches                                 2                     2   \n",
       "10.4 inches                                10                    10   \n",
       "10.5 inches                                 3                     3   \n",
       "10.9 inches                                 4                     4   \n",
       "...                                       ...                   ...   \n",
       "7.93 inches                                 1                     1   \n",
       "8 inches                                    3                     3   \n",
       "8.0 inches (unfolded)                       1                     1   \n",
       "8.7 inches                                  4                     4   \n",
       "9.7 inches                                  5                     5   \n",
       "\n",
       "                       Launched Price (Dubai)  Launched Year  \n",
       "Screen Size                                                   \n",
       "10.1 inches                                 7              7  \n",
       "10.2 inches                                 2              2  \n",
       "10.4 inches                                10             10  \n",
       "10.5 inches                                 3              3  \n",
       "10.9 inches                                 4              4  \n",
       "...                                       ...            ...  \n",
       "7.93 inches                                 1              1  \n",
       "8 inches                                    3              3  \n",
       "8.0 inches (unfolded)                       1              1  \n",
       "8.7 inches                                  4              4  \n",
       "9.7 inches                                  5              5  \n",
       "\n",
       "[97 rows x 14 columns]"
      ]
     },
     "execution_count": 37,
     "metadata": {},
     "output_type": "execute_result"
    }
   ],
   "source": [
    "# print(df.groupby(\"Battery Capacity\")[[\"Model Name\", \"Mobile Weight\"]].max())  # Agrupar por tamaño de pantalla y contar el número de entradas en cada grupo\n",
    "df.groupby(\"Screen Size\").count()"
   ]
  },
  {
   "cell_type": "markdown",
   "metadata": {},
   "source": [
    "## Ordenar valores"
   ]
  },
  {
   "cell_type": "code",
   "execution_count": 32,
   "metadata": {},
   "outputs": [
    {
     "data": {
      "text/html": [
       "<div>\n",
       "<style scoped>\n",
       "    .dataframe tbody tr th:only-of-type {\n",
       "        vertical-align: middle;\n",
       "    }\n",
       "\n",
       "    .dataframe tbody tr th {\n",
       "        vertical-align: top;\n",
       "    }\n",
       "\n",
       "    .dataframe thead th {\n",
       "        text-align: right;\n",
       "    }\n",
       "</style>\n",
       "<table border=\"1\" class=\"dataframe\">\n",
       "  <thead>\n",
       "    <tr style=\"text-align: right;\">\n",
       "      <th></th>\n",
       "      <th>Company Name</th>\n",
       "      <th>Model Name</th>\n",
       "      <th>Launched Price (USA)</th>\n",
       "      <th>Launched Year</th>\n",
       "    </tr>\n",
       "  </thead>\n",
       "  <tbody>\n",
       "    <tr>\n",
       "      <th>661</th>\n",
       "      <td>Huawei</td>\n",
       "      <td>Mate XT 512GB</td>\n",
       "      <td>2799.0</td>\n",
       "      <td>2024</td>\n",
       "    </tr>\n",
       "    <tr>\n",
       "      <th>630</th>\n",
       "      <td>Huawei</td>\n",
       "      <td>Mate X2</td>\n",
       "      <td>2699.0</td>\n",
       "      <td>2021</td>\n",
       "    </tr>\n",
       "    <tr>\n",
       "      <th>660</th>\n",
       "      <td>Huawei</td>\n",
       "      <td>Mate XT 256GB</td>\n",
       "      <td>2599.0</td>\n",
       "      <td>2024</td>\n",
       "    </tr>\n",
       "    <tr>\n",
       "      <th>657</th>\n",
       "      <td>Huawei</td>\n",
       "      <td>Mate X6</td>\n",
       "      <td>2499.0</td>\n",
       "      <td>2024</td>\n",
       "    </tr>\n",
       "    <tr>\n",
       "      <th>634</th>\n",
       "      <td>Huawei</td>\n",
       "      <td>Mate Xs 2</td>\n",
       "      <td>2499.0</td>\n",
       "      <td>2022</td>\n",
       "    </tr>\n",
       "    <tr>\n",
       "      <th>643</th>\n",
       "      <td>Huawei</td>\n",
       "      <td>Mate X3</td>\n",
       "      <td>2499.0</td>\n",
       "      <td>2023</td>\n",
       "    </tr>\n",
       "    <tr>\n",
       "      <th>929</th>\n",
       "      <td>Samsung</td>\n",
       "      <td>Galaxy Z Fold6 1TB</td>\n",
       "      <td>2259.0</td>\n",
       "      <td>2024</td>\n",
       "    </tr>\n",
       "    <tr>\n",
       "      <th>858</th>\n",
       "      <td>Honor</td>\n",
       "      <td>Magic V2</td>\n",
       "      <td>1899.0</td>\n",
       "      <td>2024</td>\n",
       "    </tr>\n",
       "    <tr>\n",
       "      <th>120</th>\n",
       "      <td>Samsung</td>\n",
       "      <td>Galaxy Z Fold 4 512GB</td>\n",
       "      <td>1899.0</td>\n",
       "      <td>2022</td>\n",
       "    </tr>\n",
       "    <tr>\n",
       "      <th>869</th>\n",
       "      <td>Honor</td>\n",
       "      <td>Magic V3</td>\n",
       "      <td>1899.0</td>\n",
       "      <td>2024</td>\n",
       "    </tr>\n",
       "  </tbody>\n",
       "</table>\n",
       "</div>"
      ],
      "text/plain": [
       "    Company Name             Model Name  Launched Price (USA)  Launched Year\n",
       "661       Huawei          Mate XT 512GB                2799.0           2024\n",
       "630       Huawei                Mate X2                2699.0           2021\n",
       "660       Huawei          Mate XT 256GB                2599.0           2024\n",
       "657       Huawei                Mate X6                2499.0           2024\n",
       "634       Huawei              Mate Xs 2                2499.0           2022\n",
       "643       Huawei                Mate X3                2499.0           2023\n",
       "929      Samsung     Galaxy Z Fold6 1TB                2259.0           2024\n",
       "858        Honor               Magic V2                1899.0           2024\n",
       "120      Samsung  Galaxy Z Fold 4 512GB                1899.0           2022\n",
       "869        Honor               Magic V3                1899.0           2024"
      ]
     },
     "execution_count": 32,
     "metadata": {},
     "output_type": "execute_result"
    }
   ],
   "source": [
    "# df[\"Launched Price (USA)\"] = df[\"Launched Price (USA)\"].str.replace(\"USD\", \"\").str.replace(\",\", \"\").str.replace(\" \", \"\").astype(float) \n",
    "# df = pd.DataFrame(data)  # Resetear la data de df\n",
    "df = pd.read_csv(\"Mobiles_Dataset_(2025).csv\", encoding=\"unicode_escape\")\n",
    "df[\"Launched Price (USA)\"] = pd.to_numeric(df[\"Launched Price (USA)\"].str.replace(\"USD\", \"\").str.replace(\" \", \"\").str.replace(\",\", \"\"))\n",
    "# print(df.keys)\n",
    "df.sort_values(by=\"Launched Price (USA)\", ascending=False, inplace=True)  # Ordenar por precio\n",
    "df[[\"Company Name\", \"Model Name\", \"Launched Price (USA)\", \"Launched Year\"]].head(10)  # Mostrar las 10 más caras "
   ]
  },
  {
   "cell_type": "markdown",
   "metadata": {},
   "source": [
    "# Inferencias de la data"
   ]
  },
  {
   "cell_type": "markdown",
   "metadata": {},
   "source": [
    "1. Los celulares mas caros de cada año no son los de Apple\n",
    "2. El peso promedio de los celulares es de 228.32\n",
    "3. Entre más batería tiene un dispositivo móvil, más pesa.\n",
    "4. 6 de los 10 celulares más caros en Estados Unidos fueron lanzados en 2024\n",
    "5. Hay 97 tamaños de pantalla diferentes\n"
   ]
  }
 ],
 "metadata": {
  "kernelspec": {
   "display_name": "Python 3",
   "language": "python",
   "name": "python3"
  },
  "language_info": {
   "codemirror_mode": {
    "name": "ipython",
    "version": 3
   },
   "file_extension": ".py",
   "mimetype": "text/x-python",
   "name": "python",
   "nbconvert_exporter": "python",
   "pygments_lexer": "ipython3",
   "version": "3.12.6"
  }
 },
 "nbformat": 4,
 "nbformat_minor": 2
}
